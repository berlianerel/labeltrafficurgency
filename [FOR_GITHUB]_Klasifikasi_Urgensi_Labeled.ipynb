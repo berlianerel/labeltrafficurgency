{
  "nbformat": 4,
  "nbformat_minor": 0,
  "metadata": {
    "colab": {
      "provenance": [],
      "authorship_tag": "ABX9TyOYCHzCZGieh18mC03RsamY",
      "include_colab_link": true
    },
    "kernelspec": {
      "name": "python3",
      "display_name": "Python 3"
    },
    "language_info": {
      "name": "python"
    }
  },
  "cells": [
    {
      "cell_type": "markdown",
      "metadata": {
        "id": "view-in-github",
        "colab_type": "text"
      },
      "source": [
        "<a href=\"https://colab.research.google.com/github/berlianerel/labeltrafficurgency/blob/main/%5BFOR_GITHUB%5D_Klasifikasi_Urgensi_Labeled.ipynb\" target=\"_parent\"><img src=\"https://colab.research.google.com/assets/colab-badge.svg\" alt=\"Open In Colab\"/></a>"
      ]
    },
    {
      "cell_type": "code",
      "source": [
        "#full code\n",
        "#import set kata\n",
        "import pandas as pd\n",
        "url = 'https://drive.google.com/file/d/1YOvj_OSaUer3m8qQnIlRiXXsU4e2heVy/view?usp=sharing' #silakan ganti di sini\n",
        "path = 'https://drive.google.com/uc?export=download&id='+url.split('/')[-2]\n",
        "\n",
        "df_kata = pd.read_csv(path)\n",
        "\n",
        "# 2. Mengonversi ke dalam bentuk dictionary set\n",
        "kata_kategori_final_dict = {\n",
        "    \"Ringan\": set(df_kata[\"Ringan\"].dropna().tolist()),\n",
        "    \"Sedang\": set(df_kata[\"Sedang\"].dropna().tolist()),\n",
        "    \"Fatal\": set(df_kata[\"Fatal\"].dropna().tolist())\n",
        "}\n",
        "\n",
        "# 3. Fungsi untuk mencetak daftar kata per kategori\n",
        "def print_set_kata():\n",
        "    print(\"\\n=== Daftar Kata Per Kategori ===\")\n",
        "    for kategori, kata_set in kata_kategori_final_dict.items():\n",
        "        print(f\"\\nKategori: {kategori}\")\n",
        "        print(\", \".join(sorted(kata_set)))  # Menampilkan kata dalam format yang rapi\n",
        "\n",
        "# 4. Fungsi untuk mencocokkan teks dengan set kata dan menghitung skor kategori\n",
        "def hitung_kata_per_kategori(aduan):\n",
        "    aduan = str(aduan).lower().split()  # Normalisasi teks ke huruf kecil dan pecah jadi kata-kata\n",
        "    kategori_skor = {\"Ringan\": 0, \"Sedang\": 0, \"Fatal\": 0}\n",
        "\n",
        "    for kategori, kata_set in kata_kategori_final_dict.items():\n",
        "        kategori_skor[kategori] = sum(1 for kata in aduan if kata in kata_set)\n",
        "\n",
        "    return kategori_skor[\"Ringan\"], kategori_skor[\"Sedang\"], kategori_skor[\"Fatal\"]\n",
        "\n",
        "# 5. Fungsi untuk menentukan label berdasarkan skor tertinggi\n",
        "def tentukan_label_aduan(skor_ringan, skor_sedang, skor_fatal):\n",
        "    skor = {\"Ringan\": skor_ringan, \"Sedang\": skor_sedang, \"Fatal\": skor_fatal}\n",
        "    return max(skor, key=skor.get)  # Pilih kategori dengan skor tertinggi\n",
        "\n",
        "# 6. Mencetak daftar kata per kategori sebelum user memasukkan teks\n",
        "print_set_kata()\n",
        "\n",
        "# 7. Menerima input teks dari pengguna\n",
        "input_text = input(\"\\nMasukkan teks aduan: \")  # User mengetik aduan\n",
        "\n",
        "# 8. Proses pencocokan dan klasifikasi\n",
        "skor_ringan, skor_sedang, skor_fatal = hitung_kata_per_kategori(input_text)\n",
        "label_aduan = tentukan_label_aduan(skor_ringan, skor_sedang, skor_fatal)\n",
        "\n",
        "# 9. Menampilkan hasil klasifikasi\n",
        "print(\"\\n=== Hasil Klasifikasi Aduan ===\")\n",
        "print(f\"Teks Aduan: {input_text}\")\n",
        "print(f\"Skor Ringan: {skor_ringan}\")\n",
        "print(f\"Skor Sedang: {skor_sedang}\")\n",
        "print(f\"Skor Fatal: {skor_fatal}\")\n",
        "print(f\"Kategori: {label_aduan}\")\n"
      ],
      "metadata": {
        "colab": {
          "base_uri": "https://localhost:8080/"
        },
        "id": "LuCanHNwPuW6",
        "outputId": "c9d4627f-5856-4f7d-86e6-000a828f7f16"
      },
      "execution_count": null,
      "outputs": [
        {
          "output_type": "stream",
          "name": "stdout",
          "text": [
            "\n",
            "=== Daftar Kata Per Kategori ===\n",
            "\n",
            "Kategori: Ringan\n",
            "aman, arus, banjir, bencana, hancur, hujan, jalan, jalur, jembatan, kecelakaan, kota, lalu, lampu, lintas, macet, marka, parah, pohon, polisi, rambu, rawan, roboh, rusak, tabrak, traffic, trotoar, tumbang\n",
            "\n",
            "Kategori: Sedang\n",
            "arus, banjir, darurat, hujan, jalan, jalur, jembatan, kecelakaan, korban, kota, lampu, lintas, longsor, macet, padam, parah, pemadam, pohon, polisi, rambu, rusak, ruwet, tabrak, traffic, tumbang\n",
            "\n",
            "Kategori: Fatal\n",
            "ambulans, arus, banjir, bencana, darurat, deras, fatal, gempa, hancur, hujan, jalan, jalur, jembatan, kecelakaan, korban, kota, lampu, lintas, longsor, macet, meninggal, parah, pohon, polisi, rambu, rawan, roboh, rusak, tabrak, tinggal, trotoar, tumbang\n",
            "\n",
            "Masukkan teks aduan: ada kecelakaan parah sampai terjadi korban luka yang harus di bawa ke rumah sakit\n",
            "\n",
            "=== Hasil Klasifikasi Aduan ===\n",
            "Teks Aduan: ada kecelakaan parah sampai terjadi korban luka yang harus di bawa ke rumah sakit\n",
            "Skor Ringan: 2\n",
            "Skor Sedang: 3\n",
            "Skor Fatal: 3\n",
            "Kategori: Sedang\n"
          ]
        }
      ]
    }
  ]
}